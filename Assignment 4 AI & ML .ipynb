{
 "cells": [
  {
   "cell_type": "markdown",
   "metadata": {},
   "source": [
    "Question 1 :\n",
    "Research on whether addition, subtraction, multiplication, division, floor division and modulo\n",
    "operations be performed on complex numbers. Based on your study, implement a Python\n",
    "program to demonstrate these operations."
   ]
  },
  {
   "cell_type": "code",
   "execution_count": 1,
   "metadata": {},
   "outputs": [
    {
     "name": "stdout",
     "output_type": "stream",
     "text": [
      "Addition of two complex numbers :  (7-4j)\n",
      "Subtraction of two complex numbers :  (1+10j)\n",
      "Multiplication of two complex numbers :  (33-19j)\n",
      "Division of two complex numbers :  (-0.15517241379310348+0.6379310344827587j)\n"
     ]
    }
   ],
   "source": [
    "print(\"Addition of two complex numbers : \",(4+3j)+(3-7j))\n",
    "print(\"Subtraction of two complex numbers : \",(4+3j)-(3-7j))\n",
    "print(\"Multiplication of two complex numbers : \",(4+3j)*(3-7j))\n",
    "print(\"Division of two complex numbers : \",(4+3j)/(3-7j))\n"
   ]
  },
  {
   "cell_type": "markdown",
   "metadata": {},
   "source": [
    "Question 2 :\n",
    "Research on range() functions and its parameters. Create a markdown cell and write in your own\n",
    "words (no copy-paste from google please) what you understand about it. Implement a small\n",
    "program of your choice on the same.\n"
   ]
  },
  {
   "cell_type": "code",
   "execution_count": 2,
   "metadata": {},
   "outputs": [
    {
     "name": "stdout",
     "output_type": "stream",
     "text": [
      "0,1,2,3,4,5,"
     ]
    }
   ],
   "source": [
    "# Get numbers from range 0 to 6\n",
    "for i in range(6):\n",
    "    print(i, end=',')"
   ]
  },
  {
   "cell_type": "markdown",
   "metadata": {},
   "source": [
    "Question 3:\n",
    " Consider two numbers. Perform their subtraction and if the result of subtraction is greater than\n",
    "25, print their multiplication result else print their division result.\n"
   ]
  },
  {
   "cell_type": "code",
   "execution_count": 3,
   "metadata": {},
   "outputs": [
    {
     "name": "stdout",
     "output_type": "stream",
     "text": [
      "multiplication Value 1000\n"
     ]
    }
   ],
   "source": [
    "a = 50\n",
    "b =  20\n",
    "c = a-b\n",
    "if c>25:\n",
    "    print(\"multiplication Value\",a*b)\n",
    "    \n",
    "else:\n",
    "    print(\"Divison Value\",a/b)\n",
    "    \n",
    "    \n"
   ]
  },
  {
   "cell_type": "markdown",
   "metadata": {},
   "source": [
    "# Question 4:\n",
    "Consider a list of 10 elements of integer values. If the number in the list is divisible by 2, print the\n",
    "result as \"square of that number minus 2\"."
   ]
  },
  {
   "cell_type": "code",
   "execution_count": 4,
   "metadata": {},
   "outputs": [
    {
     "name": "stdout",
     "output_type": "stream",
     "text": [
      "2\n",
      "14\n",
      "34\n",
      "62\n",
      "98\n"
     ]
    }
   ],
   "source": [
    "a = [1,2,3,4,5,6,7,8,9,10]\n",
    "\n",
    "for i in a:\n",
    "    if i%2==0:\n",
    "        print(i**2-2)\n",
    "\n"
   ]
  },
  {
   "cell_type": "markdown",
   "metadata": {},
   "source": [
    "# Question 5:\n",
    "Consider a list of 10 elements. Print all the elements in the list which are greater than 7 when that\n",
    "number is divided 2."
   ]
  },
  {
   "cell_type": "code",
   "execution_count": 5,
   "metadata": {},
   "outputs": [
    {
     "name": "stdout",
     "output_type": "stream",
     "text": [
      "all element 4.0\n",
      "all element 4.5\n",
      "all element 5.0\n"
     ]
    }
   ],
   "source": [
    "a = [1,2,3,4,5,6,7,8,9,10]\n",
    "\n",
    "for i in a:\n",
    "    if i>7:\n",
    "        print(\"all element\" , i/2)\n"
   ]
  },
  {
   "cell_type": "code",
   "execution_count": 6,
   "metadata": {},
   "outputs": [
    {
     "name": "stdout",
     "output_type": "stream",
     "text": [
      "< all elemet 1\n",
      "< all elemet 2\n",
      "> all elemet 17\n",
      "< all elemet 4\n",
      "< all elemet 10\n",
      "< all elemet 11\n",
      "> all elemet 15\n",
      "> all elemet 16\n",
      "> all elemet 20\n"
     ]
    }
   ],
   "source": [
    "a = [1,2,17,4,10,11,15,16,20]\n",
    "\n",
    "for i in a:\n",
    "    if i/2>7:\n",
    "        print( \"> all elemet\" , i)\n",
    "    else:\n",
    "        print( \"< all elemet\",i)\n"
   ]
  },
  {
   "cell_type": "code",
   "execution_count": null,
   "metadata": {},
   "outputs": [],
   "source": []
  }
 ],
 "metadata": {
  "kernelspec": {
   "display_name": "Python 3",
   "language": "python",
   "name": "python3"
  },
  "language_info": {
   "codemirror_mode": {
    "name": "ipython",
    "version": 3
   },
   "file_extension": ".py",
   "mimetype": "text/x-python",
   "name": "python",
   "nbconvert_exporter": "python",
   "pygments_lexer": "ipython3",
   "version": "3.7.6"
  }
 },
 "nbformat": 4,
 "nbformat_minor": 4
}
