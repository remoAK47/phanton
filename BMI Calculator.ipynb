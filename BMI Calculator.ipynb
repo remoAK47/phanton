{
 "cells": [
  {
   "cell_type": "code",
   "execution_count": 4,
   "metadata": {},
   "outputs": [
    {
     "name": "stdout",
     "output_type": "stream",
     "text": [
      "Bmi:\n",
      "21.98989236526368\n",
      "Vishal\n",
      "is not Overweight\n"
     ]
    }
   ],
   "source": [
    "name =\"Vishal\"\n",
    "height_m = 1.61\n",
    "weight_kg = 57\n",
    "\n",
    "bmi = weight_kg /(height_m ** 2)\n",
    "\n",
    "print(\"Bmi:\")\n",
    "\n",
    "print(bmi)\n",
    "if bmi < 25:\n",
    "    print(name)\n",
    "    print(\"is not Overweight\")\n",
    "else:\n",
    "        print(name)\n",
    "        print(\"is overweight\")"
   ]
  },
  {
   "cell_type": "code",
   "execution_count": 5,
   "metadata": {},
   "outputs": [
    {
     "name": "stdout",
     "output_type": "stream",
     "text": [
      "Bmi:\n",
      "29.411764705882355\n",
      "Jubair\n",
      "is overweight\n"
     ]
    }
   ],
   "source": [
    "name =\"Jubair\"\n",
    "height_m = 1.7\n",
    "weight_kg = 85\n",
    "\n",
    "bmi = weight_kg /(height_m ** 2)\n",
    "\n",
    "print(\"Bmi:\")\n",
    "\n",
    "print(bmi)\n",
    "if bmi < 25:\n",
    "    print(name)\n",
    "    print(\"is not Overweight\")\n",
    "else:\n",
    "        print(name)\n",
    "        print(\"is overweight\")"
   ]
  },
  {
   "cell_type": "code",
   "execution_count": null,
   "metadata": {},
   "outputs": [],
   "source": []
  }
 ],
 "metadata": {
  "kernelspec": {
   "display_name": "Python 3",
   "language": "python",
   "name": "python3"
  },
  "language_info": {
   "codemirror_mode": {
    "name": "ipython",
    "version": 3
   },
   "file_extension": ".py",
   "mimetype": "text/x-python",
   "name": "python",
   "nbconvert_exporter": "python",
   "pygments_lexer": "ipython3",
   "version": "3.7.6"
  }
 },
 "nbformat": 4,
 "nbformat_minor": 4
}
